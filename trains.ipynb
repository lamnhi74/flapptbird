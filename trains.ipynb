{
 "cells": [
  {
   "cell_type": "code",
   "execution_count": 1,
   "metadata": {},
   "outputs": [
    {
     "name": "stdout",
     "output_type": "stream",
     "text": [
      "pygame 2.6.0 (SDL 2.28.4, Python 3.12.6)\n",
      "Hello from the pygame community. https://www.pygame.org/contribute.html\n"
     ]
    }
   ],
   "source": [
    "import matplotlib.pyplot as plt\n",
    "import cv2\n",
    "from src.flappy_bird import  FlappyBird\n",
    "import numpy as np"
   ]
  },
  {
   "cell_type": "code",
   "execution_count": 4,
   "metadata": {},
   "outputs": [
    {
     "name": "stdout",
     "output_type": "stream",
     "text": [
      "✅ Observation shape: (288, 512, 3)\n",
      "🎯 Reward: 0.1\n",
      "💥 Terminal: False\n",
      "🎨 Center pixel RGB: [0 0 0]\n"
     ]
    }
   ],
   "source": [
    "\n",
    "env = FlappyBird()\n",
    "action = np.random.choice([0, 1])\n",
    "obs, reward, done = env.next_frame(action)\n",
    "print(\"✅ Observation shape:\", obs.shape)\n",
    "print(\"🎯 Reward:\", reward)\n",
    "print(\"💥 Terminal:\", done)\n",
    "print(\"🎨 Center pixel RGB:\", obs[256, 144])\n"
   ]
  },
  {
   "cell_type": "code",
   "execution_count": null,
   "metadata": {},
   "outputs": [],
   "source": []
  }
 ],
 "metadata": {
  "kernelspec": {
   "display_name": "Python 3",
   "language": "python",
   "name": "python3"
  },
  "language_info": {
   "codemirror_mode": {
    "name": "ipython",
    "version": 3
   },
   "file_extension": ".py",
   "mimetype": "text/x-python",
   "name": "python",
   "nbconvert_exporter": "python",
   "pygments_lexer": "ipython3",
   "version": "3.12.6"
  }
 },
 "nbformat": 4,
 "nbformat_minor": 2
}
